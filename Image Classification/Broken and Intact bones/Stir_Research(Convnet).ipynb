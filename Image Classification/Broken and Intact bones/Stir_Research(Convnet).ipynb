{
  "nbformat": 4,
  "nbformat_minor": 0,
  "metadata": {
    "colab": {
      "name": "Stir Research(Convnet).ipynb",
      "provenance": [],
      "collapsed_sections": []
    },
    "kernelspec": {
      "name": "python3",
      "display_name": "Python 3"
    }
  },
  "cells": [
    {
      "cell_type": "code",
      "metadata": {
        "id": "piTmv-4A63QO",
        "colab_type": "code",
        "colab": {}
      },
      "source": [
        "\n",
        "from keras.models import Sequential\n",
        "from keras.layers import Conv2D, MaxPooling2D\n",
        "from keras.layers import Activation, Dropout, Flatten, Dense\n",
        "from keras import backend as K\n"
      ],
      "execution_count": 0,
      "outputs": []
    },
    {
      "cell_type": "code",
      "metadata": {
        "id": "LxIbpte07edJ",
        "colab_type": "code",
        "colab": {}
      },
      "source": [
        "# dimensions of images.\n",
        "img_width, img_height = 150, 150"
      ],
      "execution_count": 0,
      "outputs": []
    },
    {
      "cell_type": "code",
      "metadata": {
        "id": "MPNI6gdl7CRN",
        "colab_type": "code",
        "outputId": "a456d9a7-b7b7-40b6-9861-b5596853672f",
        "colab": {
          "base_uri": "https://localhost:8080/",
          "height": 34
        }
      },
      "source": [
        "#My google drive has been mounted to read data\n",
        "\n",
        "from google.colab import drive\n",
        "drive.mount('/content/drive')"
      ],
      "execution_count": 0,
      "outputs": [
        {
          "output_type": "stream",
          "text": [
            "Drive already mounted at /content/drive; to attempt to forcibly remount, call drive.mount(\"/content/drive\", force_remount=True).\n"
          ],
          "name": "stdout"
        }
      ]
    },
    {
      "cell_type": "code",
      "metadata": {
        "id": "6FumtI6X7LpU",
        "colab_type": "code",
        "colab": {}
      },
      "source": [
        "train_data_dir = '/content/drive/My Drive/data1/train'\n",
        "validation_data_dir = '/content/drive/My Drive/data/validation'\n",
        "nb_train_samples = 1664\n",
        "nb_validation_samples = 684\n",
        "epochs = 50\n",
        "batch_size = 16"
      ],
      "execution_count": 0,
      "outputs": []
    },
    {
      "cell_type": "code",
      "metadata": {
        "id": "3GqJl2VAc1aj",
        "colab_type": "code",
        "colab": {}
      },
      "source": [
        "if K.image_data_format() == 'channels_first':\n",
        "    input_shape = (3, img_width, img_height)\n",
        "else:\n",
        "    input_shape = (img_width, img_height, 3)\n"
      ],
      "execution_count": 0,
      "outputs": []
    },
    {
      "cell_type": "code",
      "metadata": {
        "id": "ATOa4zxcc1lZ",
        "colab_type": "code",
        "colab": {}
      },
      "source": [
        "model = Sequential()\n",
        "model.add(Conv2D(32, (3, 3), input_shape=input_shape))\n",
        "model.add(Activation('relu'))\n",
        "model.add(MaxPooling2D(pool_size=(2, 2)))"
      ],
      "execution_count": 0,
      "outputs": []
    },
    {
      "cell_type": "code",
      "metadata": {
        "id": "PJ7NnIYZc1oI",
        "colab_type": "code",
        "colab": {}
      },
      "source": [
        "model.add(Conv2D(32, (3, 3)))\n",
        "model.add(Activation('relu'))\n",
        "model.add(MaxPooling2D(pool_size=(2, 2)))\n"
      ],
      "execution_count": 0,
      "outputs": []
    },
    {
      "cell_type": "code",
      "metadata": {
        "id": "PllgAR2rc1rd",
        "colab_type": "code",
        "colab": {}
      },
      "source": [
        "model.add(Conv2D(64, (3, 3)))\n",
        "model.add(Activation('relu'))\n",
        "model.add(MaxPooling2D(pool_size=(2, 2)))"
      ],
      "execution_count": 0,
      "outputs": []
    },
    {
      "cell_type": "code",
      "metadata": {
        "id": "znXF9oGpc1ty",
        "colab_type": "code",
        "colab": {}
      },
      "source": [
        "model.add(Flatten())\n",
        "model.add(Dense(64))\n",
        "model.add(Activation('relu'))\n",
        "model.add(Dropout(0.5))\n",
        "model.add(Dense(1))\n",
        "model.add(Activation('sigmoid'))"
      ],
      "execution_count": 0,
      "outputs": []
    },
    {
      "cell_type": "code",
      "metadata": {
        "id": "Bl6jq5F9c1w2",
        "colab_type": "code",
        "colab": {}
      },
      "source": [
        "model.compile(loss='binary_crossentropy',\n",
        "              optimizer='rmsprop',\n",
        "              metrics=['accuracy'])"
      ],
      "execution_count": 0,
      "outputs": []
    },
    {
      "cell_type": "code",
      "metadata": {
        "id": "klhdbgb2c1zD",
        "colab_type": "code",
        "colab": {}
      },
      "source": [
        "from keras.preprocessing.image import ImageDataGenerator\n",
        "\n",
        "# This class helps in bringing versitality to the data\n",
        "train_datagen = ImageDataGenerator(\n",
        "    rescale=1. / 255,\n",
        "    shear_range=0.2,\n",
        "    zoom_range=0.2,\n",
        "    horizontal_flip=True)"
      ],
      "execution_count": 0,
      "outputs": []
    },
    {
      "cell_type": "code",
      "metadata": {
        "id": "CtJkmPupc14c",
        "colab_type": "code",
        "colab": {}
      },
      "source": [
        "# configuration used for testing:\n",
        "\n",
        "test_datagen = ImageDataGenerator(rescale=1. / 255)"
      ],
      "execution_count": 0,
      "outputs": []
    },
    {
      "cell_type": "code",
      "metadata": {
        "id": "eoGpz3cYc17j",
        "colab_type": "code",
        "outputId": "607982c7-03f3-40c1-92ea-f7a8f5007236",
        "colab": {
          "base_uri": "https://localhost:8080/",
          "height": 34
        }
      },
      "source": [
        "train_generator = train_datagen.flow_from_directory(\n",
        "    train_data_dir,\n",
        "    target_size=(img_width, img_height),\n",
        "    batch_size=batch_size,\n",
        "    class_mode='binary',\n",
        "    shuffle=True,\n",
        "    seed=42)"
      ],
      "execution_count": 0,
      "outputs": [
        {
          "output_type": "stream",
          "text": [
            "Found 975 images belonging to 2 classes.\n"
          ],
          "name": "stdout"
        }
      ]
    },
    {
      "cell_type": "code",
      "metadata": {
        "id": "CQFw4Nied026",
        "colab_type": "code",
        "outputId": "3c2b5a5c-f8db-47b3-b914-94009ce92a66",
        "colab": {
          "base_uri": "https://localhost:8080/",
          "height": 34
        }
      },
      "source": [
        "validation_generator = test_datagen.flow_from_directory(\n",
        "    validation_data_dir,\n",
        "    target_size=(img_width, img_height),\n",
        "    batch_size=batch_size,\n",
        "    class_mode='binary',\n",
        "    shuffle=True,\n",
        "    seed=42)"
      ],
      "execution_count": 0,
      "outputs": [
        {
          "output_type": "stream",
          "text": [
            "Found 681 images belonging to 2 classes.\n"
          ],
          "name": "stdout"
        }
      ]
    },
    {
      "cell_type": "code",
      "metadata": {
        "id": "Tw81N2wtd06v",
        "colab_type": "code",
        "outputId": "8b91424d-0dd4-4643-b77d-10f4342ca66a",
        "colab": {
          "base_uri": "https://localhost:8080/",
          "height": 1000
        }
      },
      "source": [
        "model.fit_generator(\n",
        "    train_generator,\n",
        "    steps_per_epoch=nb_train_samples // batch_size,\n",
        "    epochs=50,\n",
        "    validation_data=validation_generator,\n",
        "    validation_steps=nb_validation_samples // batch_size)\n",
        "\n"
      ],
      "execution_count": 0,
      "outputs": [
        {
          "output_type": "stream",
          "text": [
            "Epoch 1/50\n",
            "104/104 [==============================] - 71s 679ms/step - loss: 0.2272 - acc: 0.9194 - val_loss: 0.1140 - val_acc: 0.9598\n",
            "Epoch 2/50\n",
            "104/104 [==============================] - 68s 657ms/step - loss: 0.2180 - acc: 0.9260 - val_loss: 0.1122 - val_acc: 0.9594\n",
            "Epoch 3/50\n",
            "104/104 [==============================] - 68s 653ms/step - loss: 0.2479 - acc: 0.9134 - val_loss: 0.0774 - val_acc: 0.9759\n",
            "Epoch 4/50\n",
            "104/104 [==============================] - 69s 662ms/step - loss: 0.2284 - acc: 0.9259 - val_loss: 0.1107 - val_acc: 0.9579\n",
            "Epoch 5/50\n",
            "104/104 [==============================] - 69s 660ms/step - loss: 0.2323 - acc: 0.9216 - val_loss: 0.1013 - val_acc: 0.9579\n",
            "Epoch 6/50\n",
            "104/104 [==============================] - 68s 654ms/step - loss: 0.2264 - acc: 0.9237 - val_loss: 0.0736 - val_acc: 0.9759\n",
            "Epoch 7/50\n",
            "104/104 [==============================] - 67s 643ms/step - loss: 0.2586 - acc: 0.9157 - val_loss: 0.0758 - val_acc: 0.9744\n",
            "Epoch 8/50\n",
            "104/104 [==============================] - 70s 672ms/step - loss: 0.2567 - acc: 0.9265 - val_loss: 0.0750 - val_acc: 0.9759\n",
            "Epoch 9/50\n",
            "104/104 [==============================] - 67s 649ms/step - loss: 0.1900 - acc: 0.9381 - val_loss: 0.1345 - val_acc: 0.9444\n",
            "Epoch 10/50\n",
            "104/104 [==============================] - 69s 661ms/step - loss: 0.2906 - acc: 0.9188 - val_loss: 0.0924 - val_acc: 0.9744\n",
            "Epoch 11/50\n",
            "104/104 [==============================] - 68s 657ms/step - loss: 0.2281 - acc: 0.9302 - val_loss: 0.1320 - val_acc: 0.9594\n",
            "Epoch 12/50\n",
            "104/104 [==============================] - 67s 647ms/step - loss: 0.2319 - acc: 0.9247 - val_loss: 0.1305 - val_acc: 0.9699\n",
            "Epoch 13/50\n",
            "104/104 [==============================] - 69s 663ms/step - loss: 0.2118 - acc: 0.9284 - val_loss: 0.0793 - val_acc: 0.9729\n",
            "Epoch 14/50\n",
            "104/104 [==============================] - 68s 652ms/step - loss: 0.2290 - acc: 0.9296 - val_loss: 0.0907 - val_acc: 0.9744\n",
            "Epoch 15/50\n",
            "104/104 [==============================] - 68s 657ms/step - loss: 0.2647 - acc: 0.9165 - val_loss: 0.1085 - val_acc: 0.9594\n",
            "Epoch 16/50\n",
            "104/104 [==============================] - 68s 652ms/step - loss: 0.2392 - acc: 0.9164 - val_loss: 0.0614 - val_acc: 0.9835\n",
            "Epoch 17/50\n",
            "104/104 [==============================] - 67s 642ms/step - loss: 0.2608 - acc: 0.9198 - val_loss: 0.1141 - val_acc: 0.9654\n",
            "Epoch 18/50\n",
            "104/104 [==============================] - 70s 672ms/step - loss: 0.2253 - acc: 0.9253 - val_loss: 0.0900 - val_acc: 0.9684\n",
            "Epoch 19/50\n",
            "104/104 [==============================] - 68s 650ms/step - loss: 0.2224 - acc: 0.9260 - val_loss: 0.0933 - val_acc: 0.9759\n",
            "Epoch 20/50\n",
            "104/104 [==============================] - 68s 654ms/step - loss: 0.2471 - acc: 0.9218 - val_loss: 0.0573 - val_acc: 0.9774\n",
            "Epoch 21/50\n",
            "104/104 [==============================] - 69s 660ms/step - loss: 0.2454 - acc: 0.9279 - val_loss: 0.1302 - val_acc: 0.9594\n",
            "Epoch 22/50\n",
            "104/104 [==============================] - 68s 650ms/step - loss: 0.2270 - acc: 0.9212 - val_loss: 0.0789 - val_acc: 0.9729\n",
            "Epoch 23/50\n",
            "104/104 [==============================] - 69s 663ms/step - loss: 0.2036 - acc: 0.9380 - val_loss: 0.1367 - val_acc: 0.9609\n",
            "Epoch 24/50\n",
            "104/104 [==============================] - 68s 651ms/step - loss: 0.2763 - acc: 0.9098 - val_loss: 0.0805 - val_acc: 0.9774\n",
            "Epoch 25/50\n",
            "104/104 [==============================] - 68s 657ms/step - loss: 0.2627 - acc: 0.9344 - val_loss: 0.1068 - val_acc: 0.9714\n",
            "Epoch 26/50\n",
            "104/104 [==============================] - 69s 662ms/step - loss: 0.2669 - acc: 0.9104 - val_loss: 0.5679 - val_acc: 0.8992\n",
            "Epoch 27/50\n",
            "104/104 [==============================] - 68s 656ms/step - loss: 0.2463 - acc: 0.9338 - val_loss: 0.0900 - val_acc: 0.9774\n",
            "Epoch 28/50\n",
            "104/104 [==============================] - 68s 656ms/step - loss: 0.2208 - acc: 0.9294 - val_loss: 0.0902 - val_acc: 0.9744\n",
            "Epoch 29/50\n",
            "104/104 [==============================] - 69s 663ms/step - loss: 0.2748 - acc: 0.9176 - val_loss: 0.1472 - val_acc: 0.9519\n",
            "Epoch 30/50\n",
            "104/104 [==============================] - 68s 653ms/step - loss: 0.3328 - acc: 0.9025 - val_loss: 0.0709 - val_acc: 0.9699\n",
            "Epoch 31/50\n",
            "104/104 [==============================] - 68s 654ms/step - loss: 0.2919 - acc: 0.9200 - val_loss: 0.1286 - val_acc: 0.9774\n",
            "Epoch 32/50\n",
            "104/104 [==============================] - 69s 659ms/step - loss: 0.2910 - acc: 0.9164 - val_loss: 0.2222 - val_acc: 0.9414\n",
            "Epoch 33/50\n",
            "104/104 [==============================] - 68s 659ms/step - loss: 0.2747 - acc: 0.9189 - val_loss: 0.1275 - val_acc: 0.9744\n",
            "Epoch 34/50\n",
            "104/104 [==============================] - 67s 645ms/step - loss: 0.2874 - acc: 0.9224 - val_loss: 0.1746 - val_acc: 0.9624\n",
            "Epoch 35/50\n",
            "104/104 [==============================] - 70s 670ms/step - loss: 0.2500 - acc: 0.9200 - val_loss: 0.2932 - val_acc: 0.9353\n",
            "Epoch 36/50\n",
            "104/104 [==============================] - 68s 655ms/step - loss: 0.3067 - acc: 0.9140 - val_loss: 0.1036 - val_acc: 0.9729\n",
            "Epoch 37/50\n",
            "104/104 [==============================] - 69s 661ms/step - loss: 0.2952 - acc: 0.9175 - val_loss: 0.0971 - val_acc: 0.9744\n",
            "Epoch 38/50\n",
            "104/104 [==============================] - 69s 662ms/step - loss: 0.3527 - acc: 0.8941 - val_loss: 0.1192 - val_acc: 0.9654\n",
            "Epoch 39/50\n",
            "104/104 [==============================] - 68s 650ms/step - loss: 0.3268 - acc: 0.9069 - val_loss: 0.1174 - val_acc: 0.9564\n",
            "Epoch 40/50\n",
            "104/104 [==============================] - 69s 666ms/step - loss: 0.2780 - acc: 0.9188 - val_loss: 0.0944 - val_acc: 0.9759\n",
            "Epoch 41/50\n",
            "104/104 [==============================] - 68s 654ms/step - loss: 0.3535 - acc: 0.8954 - val_loss: 0.1507 - val_acc: 0.9669\n",
            "Epoch 42/50\n",
            "104/104 [==============================] - 70s 669ms/step - loss: 0.3372 - acc: 0.9145 - val_loss: 0.0956 - val_acc: 0.9669\n",
            "Epoch 43/50\n",
            "104/104 [==============================] - 69s 659ms/step - loss: 0.3473 - acc: 0.9038 - val_loss: 0.1399 - val_acc: 0.9639\n",
            "Epoch 44/50\n",
            "104/104 [==============================] - 68s 656ms/step - loss: 0.3215 - acc: 0.9007 - val_loss: 0.1159 - val_acc: 0.9717\n",
            "Epoch 45/50\n",
            "104/104 [==============================] - 69s 662ms/step - loss: 0.3501 - acc: 0.8960 - val_loss: 0.0845 - val_acc: 0.9759\n",
            "Epoch 46/50\n",
            "104/104 [==============================] - 68s 653ms/step - loss: 0.3558 - acc: 0.9031 - val_loss: 0.1061 - val_acc: 0.9714\n",
            "Epoch 47/50\n",
            "104/104 [==============================] - 69s 659ms/step - loss: 0.4098 - acc: 0.8978 - val_loss: 0.1597 - val_acc: 0.9308\n",
            "Epoch 48/50\n",
            "104/104 [==============================] - 68s 655ms/step - loss: 0.3314 - acc: 0.9025 - val_loss: 0.1166 - val_acc: 0.9579\n",
            "Epoch 49/50\n",
            "104/104 [==============================] - 69s 660ms/step - loss: 0.3694 - acc: 0.9061 - val_loss: 0.3791 - val_acc: 0.9188\n",
            "Epoch 50/50\n",
            "104/104 [==============================] - 68s 651ms/step - loss: 0.4082 - acc: 0.9127 - val_loss: 0.1180 - val_acc: 0.9639\n"
          ],
          "name": "stdout"
        },
        {
          "output_type": "execute_result",
          "data": {
            "text/plain": [
              "<keras.callbacks.History at 0x7f39732b06a0>"
            ]
          },
          "metadata": {
            "tags": []
          },
          "execution_count": 34
        }
      ]
    },
    {
      "cell_type": "code",
      "metadata": {
        "id": "ijyxshdAd0-R",
        "colab_type": "code",
        "colab": {}
      },
      "source": [
        ""
      ],
      "execution_count": 0,
      "outputs": []
    },
    {
      "cell_type": "code",
      "metadata": {
        "id": "GVGSekB3d1CS",
        "colab_type": "code",
        "outputId": "2e09d03d-76f9-4ee9-a9be-9e3d351d6c31",
        "colab": {
          "base_uri": "https://localhost:8080/",
          "height": 304
        }
      },
      "source": [
        "import numpy as np\n",
        "from PIL import Image\n",
        "\n",
        "#Loading the image to be predicted:\n",
        "from keras.preprocessing import image\n",
        "test_image1 = image.load_img(\"/content/drive/My Drive/data/prediction/pic1.jpg\",target_size=(150, 150) )\n",
        "# Adding the channel\n",
        "test_image1 = image.img_to_array(test_image1)\n",
        "# Adding the batch size as predict method expects\n",
        "test_image1 = np.expand_dims(test_image1, axis=0)\n",
        "# Predicting the test image\n",
        "result= model.predict(test_image1)\n",
        "\n",
        "#For displaying the image:\n",
        "%pylab inline\n",
        "import matplotlib.pyplot as plt\n",
        "import matplotlib.image as mpimg\n",
        "img=mpimg.imread(\"/content/drive/My Drive/data/prediction/pic1.jpg\")\n",
        "imgplot = plt.imshow(img)\n",
        "plt.show()\n",
        "                 \n",
        "#Printing the result:\n",
        "rounded = [int(np.round(x)) for x in result]\n",
        "if rounded == [0]:\n",
        "  print(\"This is a broken bone.\")\n",
        "else:\n",
        "  print(\"This is an intact bone.\")"
      ],
      "execution_count": 0,
      "outputs": [
        {
          "output_type": "stream",
          "text": [
            "Populating the interactive namespace from numpy and matplotlib\n"
          ],
          "name": "stdout"
        },
        {
          "output_type": "display_data",
          "data": {
            "image/png": "[encoded data removed]",
            "text/plain": [
              "<Figure size 432x288 with 1 Axes>"
            ]
          },
          "metadata": {
            "tags": []
          }
        },
        {
          "output_type": "stream",
          "text": [
            "This is a broken bone.\n"
          ],
          "name": "stdout"
        }
      ]
    },
    {
      "cell_type": "code",
      "metadata": {
        "id": "39WjGPiQd1F2",
        "colab_type": "code",
        "colab": {}
      },
      "source": [
        ""
      ],
      "execution_count": 0,
      "outputs": []
    },
    {
      "cell_type": "code",
      "metadata": {
        "id": "0XPhTCuzd1JU",
        "colab_type": "code",
        "colab": {}
      },
      "source": [
        ""
      ],
      "execution_count": 0,
      "outputs": []
    },
    {
      "cell_type": "code",
      "metadata": {
        "id": "ZFOdztqId1Mx",
        "colab_type": "code",
        "colab": {}
      },
      "source": [
        ""
      ],
      "execution_count": 0,
      "outputs": []
    },
    {
      "cell_type": "code",
      "metadata": {
        "id": "CMcOFwyMd1QV",
        "colab_type": "code",
        "colab": {}
      },
      "source": [
        ""
      ],
      "execution_count": 0,
      "outputs": []
    },
    {
      "cell_type": "code",
      "metadata": {
        "id": "2pxuyCmYc1qv",
        "colab_type": "code",
        "colab": {}
      },
      "source": [
        ""
      ],
      "execution_count": 0,
      "outputs": []
    }
  ]
}